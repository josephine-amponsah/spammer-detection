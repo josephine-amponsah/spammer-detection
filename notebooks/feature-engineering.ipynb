{
 "cells": [
  {
   "cell_type": "code",
   "execution_count": 1,
   "metadata": {},
   "outputs": [],
   "source": [
    "import pandas as pd \n",
    "import numpy as np\n",
    "import seaborn as sns\n",
    "import matplotlib.pyplot as plt\n",
    "import scipy"
   ]
  },
  {
   "cell_type": "code",
   "execution_count": 2,
   "metadata": {},
   "outputs": [],
   "source": [
    "data = pd.read_csv(r'../data-new/full_data.csv', index_col = 0)"
   ]
  },
  {
   "cell_type": "code",
   "execution_count": 3,
   "metadata": {},
   "outputs": [
    {
     "data": {
      "text/html": [
       "<div>\n",
       "<style scoped>\n",
       "    .dataframe tbody tr th:only-of-type {\n",
       "        vertical-align: middle;\n",
       "    }\n",
       "\n",
       "    .dataframe tbody tr th {\n",
       "        vertical-align: top;\n",
       "    }\n",
       "\n",
       "    .dataframe thead th {\n",
       "        text-align: right;\n",
       "    }\n",
       "</style>\n",
       "<table border=\"1\" class=\"dataframe\">\n",
       "  <thead>\n",
       "    <tr style=\"text-align: right;\">\n",
       "      <th></th>\n",
       "      <th>username</th>\n",
       "      <th>fullName</th>\n",
       "      <th>biography</th>\n",
       "      <th>externalUrl</th>\n",
       "      <th>followersCount</th>\n",
       "      <th>followsCount</th>\n",
       "      <th>hasChannel</th>\n",
       "      <th>highlightReelCount</th>\n",
       "      <th>isBusinessAccount</th>\n",
       "      <th>joinedRecently</th>\n",
       "      <th>businessCategoryName</th>\n",
       "      <th>private</th>\n",
       "      <th>verified</th>\n",
       "      <th>profilePicUrl</th>\n",
       "      <th>postsCount</th>\n",
       "      <th>med_likes</th>\n",
       "      <th>status</th>\n",
       "    </tr>\n",
       "  </thead>\n",
       "  <tbody>\n",
       "    <tr>\n",
       "      <th>0</th>\n",
       "      <td>maahgalleryyy</td>\n",
       "      <td>maahgalleryyy</td>\n",
       "      <td>🌙گــالری مـــاه🌙\\n.\\n⭐️اکسسوری های مو و شنیون⭐...</td>\n",
       "      <td>False</td>\n",
       "      <td>3898.0</td>\n",
       "      <td>753.0</td>\n",
       "      <td>False</td>\n",
       "      <td>11.0</td>\n",
       "      <td>False</td>\n",
       "      <td>False</td>\n",
       "      <td>NaN</td>\n",
       "      <td>False</td>\n",
       "      <td>False</td>\n",
       "      <td>True</td>\n",
       "      <td>66.0</td>\n",
       "      <td>172.5</td>\n",
       "      <td>0</td>\n",
       "    </tr>\n",
       "    <tr>\n",
       "      <th>1</th>\n",
       "      <td>Restricted profile</td>\n",
       "      <td>NaN</td>\n",
       "      <td>NaN</td>\n",
       "      <td>True</td>\n",
       "      <td>NaN</td>\n",
       "      <td>NaN</td>\n",
       "      <td>NaN</td>\n",
       "      <td>NaN</td>\n",
       "      <td>NaN</td>\n",
       "      <td>NaN</td>\n",
       "      <td>NaN</td>\n",
       "      <td>NaN</td>\n",
       "      <td>NaN</td>\n",
       "      <td>True</td>\n",
       "      <td>NaN</td>\n",
       "      <td>NaN</td>\n",
       "      <td>0</td>\n",
       "    </tr>\n",
       "  </tbody>\n",
       "</table>\n",
       "</div>"
      ],
      "text/plain": [
       "             username       fullName   \n",
       "0       maahgalleryyy  maahgalleryyy  \\\n",
       "1  Restricted profile            NaN   \n",
       "\n",
       "                                           biography  externalUrl   \n",
       "0  🌙گــالری مـــاه🌙\\n.\\n⭐️اکسسوری های مو و شنیون⭐...        False  \\\n",
       "1                                                NaN         True   \n",
       "\n",
       "   followersCount  followsCount hasChannel  highlightReelCount   \n",
       "0          3898.0         753.0      False                11.0  \\\n",
       "1             NaN           NaN        NaN                 NaN   \n",
       "\n",
       "  isBusinessAccount joinedRecently businessCategoryName private verified   \n",
       "0             False          False                  NaN   False    False  \\\n",
       "1               NaN            NaN                  NaN     NaN      NaN   \n",
       "\n",
       "   profilePicUrl  postsCount  med_likes  status  \n",
       "0           True        66.0      172.5       0  \n",
       "1           True         NaN        NaN       0  "
      ]
     },
     "execution_count": 3,
     "metadata": {},
     "output_type": "execute_result"
    }
   ],
   "source": [
    "data.head(2)"
   ]
  },
  {
   "cell_type": "code",
   "execution_count": 4,
   "metadata": {},
   "outputs": [
    {
     "name": "stdout",
     "output_type": "stream",
     "text": [
      "<class 'pandas.core.frame.DataFrame'>\n",
      "Index: 656 entries, 0 to 655\n",
      "Data columns (total 17 columns):\n",
      " #   Column                Non-Null Count  Dtype  \n",
      "---  ------                --------------  -----  \n",
      " 0   username              656 non-null    object \n",
      " 1   fullName              473 non-null    object \n",
      " 2   biography             386 non-null    object \n",
      " 3   externalUrl           656 non-null    bool   \n",
      " 4   followersCount        644 non-null    float64\n",
      " 5   followsCount          644 non-null    float64\n",
      " 6   hasChannel            644 non-null    object \n",
      " 7   highlightReelCount    644 non-null    float64\n",
      " 8   isBusinessAccount     644 non-null    object \n",
      " 9   joinedRecently        644 non-null    object \n",
      " 10  businessCategoryName  65 non-null     object \n",
      " 11  private               644 non-null    object \n",
      " 12  verified              644 non-null    object \n",
      " 13  profilePicUrl         656 non-null    bool   \n",
      " 14  postsCount            644 non-null    float64\n",
      " 15  med_likes             526 non-null    float64\n",
      " 16  status                656 non-null    int64  \n",
      "dtypes: bool(2), float64(5), int64(1), object(9)\n",
      "memory usage: 83.3+ KB\n"
     ]
    }
   ],
   "source": [
    "\n",
    "data.info()"
   ]
  },
  {
   "cell_type": "code",
   "execution_count": 5,
   "metadata": {},
   "outputs": [],
   "source": [
    "data = data[data[\"username\"] != \"Restricted profile\"]"
   ]
  },
  {
   "cell_type": "code",
   "execution_count": 6,
   "metadata": {},
   "outputs": [
    {
     "data": {
      "text/html": [
       "<div>\n",
       "<style scoped>\n",
       "    .dataframe tbody tr th:only-of-type {\n",
       "        vertical-align: middle;\n",
       "    }\n",
       "\n",
       "    .dataframe tbody tr th {\n",
       "        vertical-align: top;\n",
       "    }\n",
       "\n",
       "    .dataframe thead th {\n",
       "        text-align: right;\n",
       "    }\n",
       "</style>\n",
       "<table border=\"1\" class=\"dataframe\">\n",
       "  <thead>\n",
       "    <tr style=\"text-align: right;\">\n",
       "      <th></th>\n",
       "      <th>username</th>\n",
       "      <th>fullName</th>\n",
       "      <th>biography</th>\n",
       "      <th>externalUrl</th>\n",
       "      <th>followersCount</th>\n",
       "      <th>followsCount</th>\n",
       "      <th>hasChannel</th>\n",
       "      <th>highlightReelCount</th>\n",
       "      <th>isBusinessAccount</th>\n",
       "      <th>joinedRecently</th>\n",
       "      <th>businessCategoryName</th>\n",
       "      <th>private</th>\n",
       "      <th>verified</th>\n",
       "      <th>profilePicUrl</th>\n",
       "      <th>postsCount</th>\n",
       "      <th>med_likes</th>\n",
       "      <th>status</th>\n",
       "    </tr>\n",
       "  </thead>\n",
       "  <tbody>\n",
       "    <tr>\n",
       "      <th>0</th>\n",
       "      <td>maahgalleryyy</td>\n",
       "      <td>maahgalleryyy</td>\n",
       "      <td>🌙گــالری مـــاه🌙\\n.\\n⭐️اکسسوری های مو و شنیون⭐...</td>\n",
       "      <td>False</td>\n",
       "      <td>3898.0</td>\n",
       "      <td>753.0</td>\n",
       "      <td>False</td>\n",
       "      <td>11.0</td>\n",
       "      <td>False</td>\n",
       "      <td>False</td>\n",
       "      <td>NaN</td>\n",
       "      <td>False</td>\n",
       "      <td>False</td>\n",
       "      <td>True</td>\n",
       "      <td>66.0</td>\n",
       "      <td>172.5</td>\n",
       "      <td>0</td>\n",
       "    </tr>\n",
       "    <tr>\n",
       "      <th>2</th>\n",
       "      <td>nilirose_waternili</td>\n",
       "      <td>گلاب و عرقیجات ممتاز نیلی</td>\n",
       "      <td>🌺گلاب و عرقیجات ممتاز نیلی 🌺\\nکاشان_ نیاسر\\nار...</td>\n",
       "      <td>False</td>\n",
       "      <td>279.0</td>\n",
       "      <td>763.0</td>\n",
       "      <td>False</td>\n",
       "      <td>2.0</td>\n",
       "      <td>True</td>\n",
       "      <td>False</td>\n",
       "      <td>Personal Goods &amp; General Merchandise Stores</td>\n",
       "      <td>False</td>\n",
       "      <td>False</td>\n",
       "      <td>True</td>\n",
       "      <td>4.0</td>\n",
       "      <td>3.5</td>\n",
       "      <td>0</td>\n",
       "    </tr>\n",
       "    <tr>\n",
       "      <th>3</th>\n",
       "      <td>pleromadanceministry</td>\n",
       "      <td>Pleroma Abankz</td>\n",
       "      <td>MimeIsTheNewSpiritual🇬🇭\\nChoreographer\\nMime M...</td>\n",
       "      <td>True</td>\n",
       "      <td>1268.0</td>\n",
       "      <td>972.0</td>\n",
       "      <td>False</td>\n",
       "      <td>5.0</td>\n",
       "      <td>False</td>\n",
       "      <td>False</td>\n",
       "      <td>NaN</td>\n",
       "      <td>False</td>\n",
       "      <td>False</td>\n",
       "      <td>True</td>\n",
       "      <td>255.0</td>\n",
       "      <td>105.5</td>\n",
       "      <td>1</td>\n",
       "    </tr>\n",
       "    <tr>\n",
       "      <th>4</th>\n",
       "      <td>emmanuelesiet</td>\n",
       "      <td>Emmanuel Esiet</td>\n",
       "      <td>Adam in @n3sbestfriendsintheworld 🎬 \\nCartooni...</td>\n",
       "      <td>False</td>\n",
       "      <td>207689.0</td>\n",
       "      <td>258.0</td>\n",
       "      <td>False</td>\n",
       "      <td>10.0</td>\n",
       "      <td>False</td>\n",
       "      <td>False</td>\n",
       "      <td>NaN</td>\n",
       "      <td>False</td>\n",
       "      <td>False</td>\n",
       "      <td>True</td>\n",
       "      <td>174.0</td>\n",
       "      <td>14238.5</td>\n",
       "      <td>1</td>\n",
       "    </tr>\n",
       "    <tr>\n",
       "      <th>5</th>\n",
       "      <td>itsmariammusa</td>\n",
       "      <td>Mariam Musa</td>\n",
       "      <td>@mimacosmeticsuk \\nMeghan.Peterson@ymugroup.co...</td>\n",
       "      <td>True</td>\n",
       "      <td>608419.0</td>\n",
       "      <td>699.0</td>\n",
       "      <td>False</td>\n",
       "      <td>7.0</td>\n",
       "      <td>False</td>\n",
       "      <td>False</td>\n",
       "      <td>NaN</td>\n",
       "      <td>False</td>\n",
       "      <td>True</td>\n",
       "      <td>True</td>\n",
       "      <td>363.0</td>\n",
       "      <td>16770.0</td>\n",
       "      <td>1</td>\n",
       "    </tr>\n",
       "  </tbody>\n",
       "</table>\n",
       "</div>"
      ],
      "text/plain": [
       "               username                   fullName   \n",
       "0         maahgalleryyy              maahgalleryyy  \\\n",
       "2    nilirose_waternili  گلاب و عرقیجات ممتاز نیلی   \n",
       "3  pleromadanceministry             Pleroma Abankz   \n",
       "4         emmanuelesiet             Emmanuel Esiet   \n",
       "5         itsmariammusa                Mariam Musa   \n",
       "\n",
       "                                           biography  externalUrl   \n",
       "0  🌙گــالری مـــاه🌙\\n.\\n⭐️اکسسوری های مو و شنیون⭐...        False  \\\n",
       "2  🌺گلاب و عرقیجات ممتاز نیلی 🌺\\nکاشان_ نیاسر\\nار...        False   \n",
       "3  MimeIsTheNewSpiritual🇬🇭\\nChoreographer\\nMime M...         True   \n",
       "4  Adam in @n3sbestfriendsintheworld 🎬 \\nCartooni...        False   \n",
       "5  @mimacosmeticsuk \\nMeghan.Peterson@ymugroup.co...         True   \n",
       "\n",
       "   followersCount  followsCount hasChannel  highlightReelCount   \n",
       "0          3898.0         753.0      False                11.0  \\\n",
       "2           279.0         763.0      False                 2.0   \n",
       "3          1268.0         972.0      False                 5.0   \n",
       "4        207689.0         258.0      False                10.0   \n",
       "5        608419.0         699.0      False                 7.0   \n",
       "\n",
       "  isBusinessAccount joinedRecently   \n",
       "0             False          False  \\\n",
       "2              True          False   \n",
       "3             False          False   \n",
       "4             False          False   \n",
       "5             False          False   \n",
       "\n",
       "                          businessCategoryName private verified   \n",
       "0                                          NaN   False    False  \\\n",
       "2  Personal Goods & General Merchandise Stores   False    False   \n",
       "3                                          NaN   False    False   \n",
       "4                                          NaN   False    False   \n",
       "5                                          NaN   False     True   \n",
       "\n",
       "   profilePicUrl  postsCount  med_likes  status  \n",
       "0           True        66.0      172.5       0  \n",
       "2           True         4.0        3.5       0  \n",
       "3           True       255.0      105.5       1  \n",
       "4           True       174.0    14238.5       1  \n",
       "5           True       363.0    16770.0       1  "
      ]
     },
     "execution_count": 6,
     "metadata": {},
     "output_type": "execute_result"
    }
   ],
   "source": [
    "data.head()"
   ]
  },
  {
   "attachments": {},
   "cell_type": "markdown",
   "metadata": {},
   "source": [
    "Extracting features from username"
   ]
  },
  {
   "cell_type": "code",
   "execution_count": 7,
   "metadata": {},
   "outputs": [],
   "source": [
    "data[\"username_len\"] = data[\"username\"].apply(len)"
   ]
  },
  {
   "cell_type": "code",
   "execution_count": 8,
   "metadata": {},
   "outputs": [
    {
     "data": {
      "text/html": [
       "<div>\n",
       "<style scoped>\n",
       "    .dataframe tbody tr th:only-of-type {\n",
       "        vertical-align: middle;\n",
       "    }\n",
       "\n",
       "    .dataframe tbody tr th {\n",
       "        vertical-align: top;\n",
       "    }\n",
       "\n",
       "    .dataframe thead th {\n",
       "        text-align: right;\n",
       "    }\n",
       "</style>\n",
       "<table border=\"1\" class=\"dataframe\">\n",
       "  <thead>\n",
       "    <tr style=\"text-align: right;\">\n",
       "      <th></th>\n",
       "      <th>username</th>\n",
       "      <th>fullName</th>\n",
       "      <th>biography</th>\n",
       "      <th>externalUrl</th>\n",
       "      <th>followersCount</th>\n",
       "      <th>followsCount</th>\n",
       "      <th>hasChannel</th>\n",
       "      <th>highlightReelCount</th>\n",
       "      <th>isBusinessAccount</th>\n",
       "      <th>joinedRecently</th>\n",
       "      <th>businessCategoryName</th>\n",
       "      <th>private</th>\n",
       "      <th>verified</th>\n",
       "      <th>profilePicUrl</th>\n",
       "      <th>postsCount</th>\n",
       "      <th>med_likes</th>\n",
       "      <th>status</th>\n",
       "      <th>username_len</th>\n",
       "    </tr>\n",
       "  </thead>\n",
       "  <tbody>\n",
       "    <tr>\n",
       "      <th>0</th>\n",
       "      <td>maahgalleryyy</td>\n",
       "      <td>maahgalleryyy</td>\n",
       "      <td>🌙گــالری مـــاه🌙\\n.\\n⭐️اکسسوری های مو و شنیون⭐...</td>\n",
       "      <td>False</td>\n",
       "      <td>3898.0</td>\n",
       "      <td>753.0</td>\n",
       "      <td>False</td>\n",
       "      <td>11.0</td>\n",
       "      <td>False</td>\n",
       "      <td>False</td>\n",
       "      <td>NaN</td>\n",
       "      <td>False</td>\n",
       "      <td>False</td>\n",
       "      <td>True</td>\n",
       "      <td>66.0</td>\n",
       "      <td>172.5</td>\n",
       "      <td>0</td>\n",
       "      <td>13</td>\n",
       "    </tr>\n",
       "    <tr>\n",
       "      <th>2</th>\n",
       "      <td>nilirose_waternili</td>\n",
       "      <td>گلاب و عرقیجات ممتاز نیلی</td>\n",
       "      <td>🌺گلاب و عرقیجات ممتاز نیلی 🌺\\nکاشان_ نیاسر\\nار...</td>\n",
       "      <td>False</td>\n",
       "      <td>279.0</td>\n",
       "      <td>763.0</td>\n",
       "      <td>False</td>\n",
       "      <td>2.0</td>\n",
       "      <td>True</td>\n",
       "      <td>False</td>\n",
       "      <td>Personal Goods &amp; General Merchandise Stores</td>\n",
       "      <td>False</td>\n",
       "      <td>False</td>\n",
       "      <td>True</td>\n",
       "      <td>4.0</td>\n",
       "      <td>3.5</td>\n",
       "      <td>0</td>\n",
       "      <td>18</td>\n",
       "    </tr>\n",
       "    <tr>\n",
       "      <th>3</th>\n",
       "      <td>pleromadanceministry</td>\n",
       "      <td>Pleroma Abankz</td>\n",
       "      <td>MimeIsTheNewSpiritual🇬🇭\\nChoreographer\\nMime M...</td>\n",
       "      <td>True</td>\n",
       "      <td>1268.0</td>\n",
       "      <td>972.0</td>\n",
       "      <td>False</td>\n",
       "      <td>5.0</td>\n",
       "      <td>False</td>\n",
       "      <td>False</td>\n",
       "      <td>NaN</td>\n",
       "      <td>False</td>\n",
       "      <td>False</td>\n",
       "      <td>True</td>\n",
       "      <td>255.0</td>\n",
       "      <td>105.5</td>\n",
       "      <td>1</td>\n",
       "      <td>20</td>\n",
       "    </tr>\n",
       "    <tr>\n",
       "      <th>4</th>\n",
       "      <td>emmanuelesiet</td>\n",
       "      <td>Emmanuel Esiet</td>\n",
       "      <td>Adam in @n3sbestfriendsintheworld 🎬 \\nCartooni...</td>\n",
       "      <td>False</td>\n",
       "      <td>207689.0</td>\n",
       "      <td>258.0</td>\n",
       "      <td>False</td>\n",
       "      <td>10.0</td>\n",
       "      <td>False</td>\n",
       "      <td>False</td>\n",
       "      <td>NaN</td>\n",
       "      <td>False</td>\n",
       "      <td>False</td>\n",
       "      <td>True</td>\n",
       "      <td>174.0</td>\n",
       "      <td>14238.5</td>\n",
       "      <td>1</td>\n",
       "      <td>13</td>\n",
       "    </tr>\n",
       "    <tr>\n",
       "      <th>5</th>\n",
       "      <td>itsmariammusa</td>\n",
       "      <td>Mariam Musa</td>\n",
       "      <td>@mimacosmeticsuk \\nMeghan.Peterson@ymugroup.co...</td>\n",
       "      <td>True</td>\n",
       "      <td>608419.0</td>\n",
       "      <td>699.0</td>\n",
       "      <td>False</td>\n",
       "      <td>7.0</td>\n",
       "      <td>False</td>\n",
       "      <td>False</td>\n",
       "      <td>NaN</td>\n",
       "      <td>False</td>\n",
       "      <td>True</td>\n",
       "      <td>True</td>\n",
       "      <td>363.0</td>\n",
       "      <td>16770.0</td>\n",
       "      <td>1</td>\n",
       "      <td>13</td>\n",
       "    </tr>\n",
       "  </tbody>\n",
       "</table>\n",
       "</div>"
      ],
      "text/plain": [
       "               username                   fullName   \n",
       "0         maahgalleryyy              maahgalleryyy  \\\n",
       "2    nilirose_waternili  گلاب و عرقیجات ممتاز نیلی   \n",
       "3  pleromadanceministry             Pleroma Abankz   \n",
       "4         emmanuelesiet             Emmanuel Esiet   \n",
       "5         itsmariammusa                Mariam Musa   \n",
       "\n",
       "                                           biography  externalUrl   \n",
       "0  🌙گــالری مـــاه🌙\\n.\\n⭐️اکسسوری های مو و شنیون⭐...        False  \\\n",
       "2  🌺گلاب و عرقیجات ممتاز نیلی 🌺\\nکاشان_ نیاسر\\nار...        False   \n",
       "3  MimeIsTheNewSpiritual🇬🇭\\nChoreographer\\nMime M...         True   \n",
       "4  Adam in @n3sbestfriendsintheworld 🎬 \\nCartooni...        False   \n",
       "5  @mimacosmeticsuk \\nMeghan.Peterson@ymugroup.co...         True   \n",
       "\n",
       "   followersCount  followsCount hasChannel  highlightReelCount   \n",
       "0          3898.0         753.0      False                11.0  \\\n",
       "2           279.0         763.0      False                 2.0   \n",
       "3          1268.0         972.0      False                 5.0   \n",
       "4        207689.0         258.0      False                10.0   \n",
       "5        608419.0         699.0      False                 7.0   \n",
       "\n",
       "  isBusinessAccount joinedRecently   \n",
       "0             False          False  \\\n",
       "2              True          False   \n",
       "3             False          False   \n",
       "4             False          False   \n",
       "5             False          False   \n",
       "\n",
       "                          businessCategoryName private verified   \n",
       "0                                          NaN   False    False  \\\n",
       "2  Personal Goods & General Merchandise Stores   False    False   \n",
       "3                                          NaN   False    False   \n",
       "4                                          NaN   False    False   \n",
       "5                                          NaN   False     True   \n",
       "\n",
       "   profilePicUrl  postsCount  med_likes  status  username_len  \n",
       "0           True        66.0      172.5       0            13  \n",
       "2           True         4.0        3.5       0            18  \n",
       "3           True       255.0      105.5       1            20  \n",
       "4           True       174.0    14238.5       1            13  \n",
       "5           True       363.0    16770.0       1            13  "
      ]
     },
     "execution_count": 8,
     "metadata": {},
     "output_type": "execute_result"
    }
   ],
   "source": [
    "data.head()"
   ]
  },
  {
   "cell_type": "code",
   "execution_count": 9,
   "metadata": {},
   "outputs": [],
   "source": [
    "import re \n",
    "\n",
    "# counting number of special characters in user name\n",
    "pattern = r'[^a-zA-Z\\d\\s:]'\n",
    "data[\"user_characters\"] = data[\"username\"].apply(lambda x: len(re.findall(pattern, x)))"
   ]
  },
  {
   "cell_type": "code",
   "execution_count": 10,
   "metadata": {},
   "outputs": [],
   "source": [
    "# counting number of digits in username\n",
    "data[\"user_digits\"] = data[\"username\"].str.count('\\d')"
   ]
  },
  {
   "attachments": {},
   "cell_type": "markdown",
   "metadata": {},
   "source": [
    "Extracting features from fullname"
   ]
  },
  {
   "cell_type": "code",
   "execution_count": 11,
   "metadata": {},
   "outputs": [],
   "source": [
    "data['fullName'] = data['fullName'].fillna('')\n"
   ]
  },
  {
   "cell_type": "code",
   "execution_count": 12,
   "metadata": {},
   "outputs": [],
   "source": [
    "# counting number of characters in fullname\n",
    "data[\"full_len\"] = data[\"fullName\"].apply(len)\n",
    "\n",
    "#counting special characters in fullname\n",
    "data[\"full_characters\"] = data[\"fullName\"].apply(lambda x: len(re.findall(pattern, x)))\n",
    "\n",
    "#counting digits in fullname\n",
    "data[\"full_digits\"] = data[\"fullName\"].str.count('\\d')"
   ]
  },
  {
   "attachments": {},
   "cell_type": "markdown",
   "metadata": {},
   "source": [
    "Extracting features from biography"
   ]
  },
  {
   "cell_type": "code",
   "execution_count": 13,
   "metadata": {},
   "outputs": [
    {
     "data": {
      "text/plain": [
       "'MimeIsTheNewSpiritual🇬🇭\\nChoreographer\\nMime Minister  \\nJesus saves ❤🙏\\nMinistering Dance Through The Art of the Prophetic \\nYouTube channel 👇'"
      ]
     },
     "execution_count": 13,
     "metadata": {},
     "output_type": "execute_result"
    }
   ],
   "source": [
    "data['biography'][3]"
   ]
  },
  {
   "cell_type": "code",
   "execution_count": 14,
   "metadata": {},
   "outputs": [],
   "source": [
    "data[\"biography\"] = data[\"biography\"].str.replace('\\n', ' ').str.strip()"
   ]
  },
  {
   "cell_type": "code",
   "execution_count": 15,
   "metadata": {},
   "outputs": [],
   "source": [
    "data[\"biography\"] = data[\"biography\"].str.replace(' ', '').str.strip()"
   ]
  },
  {
   "cell_type": "code",
   "execution_count": 16,
   "metadata": {},
   "outputs": [
    {
     "data": {
      "text/plain": [
       "'MimeIsTheNewSpiritual🇬🇭ChoreographerMimeMinisterJesussaves❤🙏MinisteringDanceThroughTheArtofthePropheticYouTubechannel👇'"
      ]
     },
     "execution_count": 16,
     "metadata": {},
     "output_type": "execute_result"
    }
   ],
   "source": [
    "data['biography'][3]"
   ]
  },
  {
   "cell_type": "code",
   "execution_count": 17,
   "metadata": {},
   "outputs": [],
   "source": [
    "data[\"biography\"] = data[\"biography\"].fillna('')"
   ]
  },
  {
   "cell_type": "code",
   "execution_count": 18,
   "metadata": {},
   "outputs": [],
   "source": [
    "#length of bio\n",
    "data[\"bio_len\"] = data[\"biography\"].apply(len)\n",
    "\n",
    "import emoji\n",
    "import emoji_data_python\n",
    "\n",
    "#count of emojis in bio\n",
    "data[\"bio_emojis\"] = [len(emoji.emoji_list(c)) for c in data[\"biography\"]]"
   ]
  },
  {
   "cell_type": "code",
   "execution_count": 19,
   "metadata": {},
   "outputs": [
    {
     "data": {
      "text/html": [
       "<div>\n",
       "<style scoped>\n",
       "    .dataframe tbody tr th:only-of-type {\n",
       "        vertical-align: middle;\n",
       "    }\n",
       "\n",
       "    .dataframe tbody tr th {\n",
       "        vertical-align: top;\n",
       "    }\n",
       "\n",
       "    .dataframe thead th {\n",
       "        text-align: right;\n",
       "    }\n",
       "</style>\n",
       "<table border=\"1\" class=\"dataframe\">\n",
       "  <thead>\n",
       "    <tr style=\"text-align: right;\">\n",
       "      <th></th>\n",
       "      <th>username</th>\n",
       "      <th>fullName</th>\n",
       "      <th>biography</th>\n",
       "      <th>externalUrl</th>\n",
       "      <th>followersCount</th>\n",
       "      <th>followsCount</th>\n",
       "      <th>hasChannel</th>\n",
       "      <th>highlightReelCount</th>\n",
       "      <th>isBusinessAccount</th>\n",
       "      <th>joinedRecently</th>\n",
       "      <th>...</th>\n",
       "      <th>med_likes</th>\n",
       "      <th>status</th>\n",
       "      <th>username_len</th>\n",
       "      <th>user_characters</th>\n",
       "      <th>user_digits</th>\n",
       "      <th>full_len</th>\n",
       "      <th>full_characters</th>\n",
       "      <th>full_digits</th>\n",
       "      <th>bio_len</th>\n",
       "      <th>bio_emojis</th>\n",
       "    </tr>\n",
       "  </thead>\n",
       "  <tbody>\n",
       "    <tr>\n",
       "      <th>0</th>\n",
       "      <td>maahgalleryyy</td>\n",
       "      <td>maahgalleryyy</td>\n",
       "      <td>🌙گــالریمـــاه🌙.⭐️اکسسوریهایمووشنیون⭐️.🌛دستبند...</td>\n",
       "      <td>False</td>\n",
       "      <td>3898.0</td>\n",
       "      <td>753.0</td>\n",
       "      <td>False</td>\n",
       "      <td>11.0</td>\n",
       "      <td>False</td>\n",
       "      <td>False</td>\n",
       "      <td>...</td>\n",
       "      <td>172.5</td>\n",
       "      <td>0</td>\n",
       "      <td>13</td>\n",
       "      <td>0</td>\n",
       "      <td>0</td>\n",
       "      <td>13</td>\n",
       "      <td>0</td>\n",
       "      <td>0</td>\n",
       "      <td>121</td>\n",
       "      <td>12</td>\n",
       "    </tr>\n",
       "    <tr>\n",
       "      <th>2</th>\n",
       "      <td>nilirose_waternili</td>\n",
       "      <td>گلاب و عرقیجات ممتاز نیلی</td>\n",
       "      <td>🌺گلابوعرقیجاتممتازنیلی🌺کاشان_نیاسرارسالرایگانب...</td>\n",
       "      <td>False</td>\n",
       "      <td>279.0</td>\n",
       "      <td>763.0</td>\n",
       "      <td>False</td>\n",
       "      <td>2.0</td>\n",
       "      <td>True</td>\n",
       "      <td>False</td>\n",
       "      <td>...</td>\n",
       "      <td>3.5</td>\n",
       "      <td>0</td>\n",
       "      <td>18</td>\n",
       "      <td>1</td>\n",
       "      <td>0</td>\n",
       "      <td>25</td>\n",
       "      <td>21</td>\n",
       "      <td>0</td>\n",
       "      <td>99</td>\n",
       "      <td>3</td>\n",
       "    </tr>\n",
       "    <tr>\n",
       "      <th>3</th>\n",
       "      <td>pleromadanceministry</td>\n",
       "      <td>Pleroma Abankz</td>\n",
       "      <td>MimeIsTheNewSpiritual🇬🇭ChoreographerMimeMinist...</td>\n",
       "      <td>True</td>\n",
       "      <td>1268.0</td>\n",
       "      <td>972.0</td>\n",
       "      <td>False</td>\n",
       "      <td>5.0</td>\n",
       "      <td>False</td>\n",
       "      <td>False</td>\n",
       "      <td>...</td>\n",
       "      <td>105.5</td>\n",
       "      <td>1</td>\n",
       "      <td>20</td>\n",
       "      <td>0</td>\n",
       "      <td>0</td>\n",
       "      <td>14</td>\n",
       "      <td>0</td>\n",
       "      <td>0</td>\n",
       "      <td>118</td>\n",
       "      <td>4</td>\n",
       "    </tr>\n",
       "    <tr>\n",
       "      <th>4</th>\n",
       "      <td>emmanuelesiet</td>\n",
       "      <td>Emmanuel Esiet</td>\n",
       "      <td>Adamin@n3sbestfriendsintheworld🎬Cartoonist@tin...</td>\n",
       "      <td>False</td>\n",
       "      <td>207689.0</td>\n",
       "      <td>258.0</td>\n",
       "      <td>False</td>\n",
       "      <td>10.0</td>\n",
       "      <td>False</td>\n",
       "      <td>False</td>\n",
       "      <td>...</td>\n",
       "      <td>14238.5</td>\n",
       "      <td>1</td>\n",
       "      <td>13</td>\n",
       "      <td>0</td>\n",
       "      <td>0</td>\n",
       "      <td>14</td>\n",
       "      <td>0</td>\n",
       "      <td>0</td>\n",
       "      <td>113</td>\n",
       "      <td>3</td>\n",
       "    </tr>\n",
       "    <tr>\n",
       "      <th>5</th>\n",
       "      <td>itsmariammusa</td>\n",
       "      <td>Mariam Musa</td>\n",
       "      <td>@mimacosmeticsukMeghan.Peterson@ymugroup.comCo...</td>\n",
       "      <td>True</td>\n",
       "      <td>608419.0</td>\n",
       "      <td>699.0</td>\n",
       "      <td>False</td>\n",
       "      <td>7.0</td>\n",
       "      <td>False</td>\n",
       "      <td>False</td>\n",
       "      <td>...</td>\n",
       "      <td>16770.0</td>\n",
       "      <td>1</td>\n",
       "      <td>13</td>\n",
       "      <td>0</td>\n",
       "      <td>0</td>\n",
       "      <td>11</td>\n",
       "      <td>0</td>\n",
       "      <td>0</td>\n",
       "      <td>75</td>\n",
       "      <td>0</td>\n",
       "    </tr>\n",
       "  </tbody>\n",
       "</table>\n",
       "<p>5 rows × 25 columns</p>\n",
       "</div>"
      ],
      "text/plain": [
       "               username                   fullName   \n",
       "0         maahgalleryyy              maahgalleryyy  \\\n",
       "2    nilirose_waternili  گلاب و عرقیجات ممتاز نیلی   \n",
       "3  pleromadanceministry             Pleroma Abankz   \n",
       "4         emmanuelesiet             Emmanuel Esiet   \n",
       "5         itsmariammusa                Mariam Musa   \n",
       "\n",
       "                                           biography  externalUrl   \n",
       "0  🌙گــالریمـــاه🌙.⭐️اکسسوریهایمووشنیون⭐️.🌛دستبند...        False  \\\n",
       "2  🌺گلابوعرقیجاتممتازنیلی🌺کاشان_نیاسرارسالرایگانب...        False   \n",
       "3  MimeIsTheNewSpiritual🇬🇭ChoreographerMimeMinist...         True   \n",
       "4  Adamin@n3sbestfriendsintheworld🎬Cartoonist@tin...        False   \n",
       "5  @mimacosmeticsukMeghan.Peterson@ymugroup.comCo...         True   \n",
       "\n",
       "   followersCount  followsCount hasChannel  highlightReelCount   \n",
       "0          3898.0         753.0      False                11.0  \\\n",
       "2           279.0         763.0      False                 2.0   \n",
       "3          1268.0         972.0      False                 5.0   \n",
       "4        207689.0         258.0      False                10.0   \n",
       "5        608419.0         699.0      False                 7.0   \n",
       "\n",
       "  isBusinessAccount joinedRecently  ... med_likes status username_len   \n",
       "0             False          False  ...     172.5      0           13  \\\n",
       "2              True          False  ...       3.5      0           18   \n",
       "3             False          False  ...     105.5      1           20   \n",
       "4             False          False  ...   14238.5      1           13   \n",
       "5             False          False  ...   16770.0      1           13   \n",
       "\n",
       "   user_characters  user_digits  full_len  full_characters  full_digits   \n",
       "0                0            0        13                0            0  \\\n",
       "2                1            0        25               21            0   \n",
       "3                0            0        14                0            0   \n",
       "4                0            0        14                0            0   \n",
       "5                0            0        11                0            0   \n",
       "\n",
       "   bio_len  bio_emojis  \n",
       "0      121          12  \n",
       "2       99           3  \n",
       "3      118           4  \n",
       "4      113           3  \n",
       "5       75           0  \n",
       "\n",
       "[5 rows x 25 columns]"
      ]
     },
     "execution_count": 19,
     "metadata": {},
     "output_type": "execute_result"
    }
   ],
   "source": [
    "data.head()"
   ]
  },
  {
   "attachments": {},
   "cell_type": "markdown",
   "metadata": {},
   "source": [
    "# STATISTICAL ANALYSIS"
   ]
  },
  {
   "cell_type": "code",
   "execution_count": 20,
   "metadata": {},
   "outputs": [],
   "source": [
    "# box plot visualization\n",
    "def feature_distribution(feature, label, df):\n",
    "    fig, ax = plt.subplots(figsize=(8, 6))\n",
    "    sns.boxplot(data = df, x = label, y = feature, ax = ax)\n",
    "    \n",
    "    return plt.plot()\n"
   ]
  },
  {
   "cell_type": "code",
   "execution_count": 21,
   "metadata": {},
   "outputs": [],
   "source": [
    "# hypothesis testing function with chi-square\n",
    "def hypo_test(feature):\n",
    "    df = data[[\"status\", feature]]\n",
    "    df = df.groupby([\"status\"], as_index = False)[feature].sum()\n",
    "    \n",
    "    "
   ]
  },
  {
   "attachments": {},
   "cell_type": "markdown",
   "metadata": {},
   "source": [
    "Assessing statistical significance of features generated from username"
   ]
  },
  {
   "cell_type": "code",
   "execution_count": 22,
   "metadata": {},
   "outputs": [
    {
     "data": {
      "text/plain": [
       "[]"
      ]
     },
     "execution_count": 22,
     "metadata": {},
     "output_type": "execute_result"
    },
    {
     "data": {
      "image/png": "[encoded data removed]",
      "text/plain": [
       "<Figure size 800x600 with 1 Axes>"
      ]
     },
     "metadata": {},
     "output_type": "display_data"
    }
   ],
   "source": [
    "# user name length for fake and genuine accounts\n",
    "feature_distribution(feature = \"username_len\", label = \"status\", df = data)"
   ]
  },
  {
   "cell_type": "code",
   "execution_count": 23,
   "metadata": {},
   "outputs": [
    {
     "data": {
      "text/plain": [
       "[]"
      ]
     },
     "execution_count": 23,
     "metadata": {},
     "output_type": "execute_result"
    },
    {
     "data": {
      "image/png": "[encoded data removed]",
      "text/plain": [
       "<Figure size 800x600 with 1 Axes>"
      ]
     },
     "metadata": {},
     "output_type": "display_data"
    }
   ],
   "source": [
    "feature_distribution(feature = \"user_characters\", label = \"status\", df = data)"
   ]
  },
  {
   "cell_type": "code",
   "execution_count": 24,
   "metadata": {},
   "outputs": [
    {
     "data": {
      "text/plain": [
       "[]"
      ]
     },
     "execution_count": 24,
     "metadata": {},
     "output_type": "execute_result"
    },
    {
     "data": {
      "image/png": "[encoded data removed]",
      "text/plain": [
       "<Figure size 800x600 with 1 Axes>"
      ]
     },
     "metadata": {},
     "output_type": "display_data"
    }
   ],
   "source": [
    "feature_distribution(feature = \"user_digits\", label = \"status\", df = data)"
   ]
  },
  {
   "attachments": {},
   "cell_type": "markdown",
   "metadata": {},
   "source": [
    "Visualizing distribution of features from fulname"
   ]
  },
  {
   "cell_type": "code",
   "execution_count": 25,
   "metadata": {},
   "outputs": [
    {
     "data": {
      "text/plain": [
       "[]"
      ]
     },
     "execution_count": 25,
     "metadata": {},
     "output_type": "execute_result"
    },
    {
     "data": {
      "image/png": "[encoded data removed]",
      "text/plain": [
       "<Figure size 800x600 with 1 Axes>"
      ]
     },
     "metadata": {},
     "output_type": "display_data"
    }
   ],
   "source": [
    "feature_distribution(feature = \"full_len\", label = \"status\", df = data)"
   ]
  },
  {
   "cell_type": "code",
   "execution_count": 26,
   "metadata": {},
   "outputs": [
    {
     "data": {
      "text/plain": [
       "[]"
      ]
     },
     "execution_count": 26,
     "metadata": {},
     "output_type": "execute_result"
    },
    {
     "data": {
      "image/png": "[encoded data removed]",
      "text/plain": [
       "<Figure size 800x600 with 1 Axes>"
      ]
     },
     "metadata": {},
     "output_type": "display_data"
    }
   ],
   "source": [
    "feature_distribution(feature = \"full_characters\", label = \"status\", df = data)"
   ]
  },
  {
   "cell_type": "code",
   "execution_count": 27,
   "metadata": {},
   "outputs": [
    {
     "data": {
      "text/plain": [
       "[]"
      ]
     },
     "execution_count": 27,
     "metadata": {},
     "output_type": "execute_result"
    },
    {
     "data": {
      "image/png": "[encoded data removed]",
      "text/plain": [
       "<Figure size 800x600 with 1 Axes>"
      ]
     },
     "metadata": {},
     "output_type": "display_data"
    }
   ],
   "source": [
    "feature_distribution(feature = \"full_digits\", label = \"status\", df = data)"
   ]
  },
  {
   "attachments": {},
   "cell_type": "markdown",
   "metadata": {},
   "source": [
    "Visualizing distribution of fetaures from biography"
   ]
  },
  {
   "cell_type": "code",
   "execution_count": 28,
   "metadata": {},
   "outputs": [
    {
     "data": {
      "text/plain": [
       "[]"
      ]
     },
     "execution_count": 28,
     "metadata": {},
     "output_type": "execute_result"
    },
    {
     "data": {
      "image/png": "[encoded data removed]",
      "text/plain": [
       "<Figure size 800x600 with 1 Axes>"
      ]
     },
     "metadata": {},
     "output_type": "display_data"
    }
   ],
   "source": [
    "feature_distribution(feature = \"bio_len\", label = \"status\", df = data)"
   ]
  },
  {
   "cell_type": "code",
   "execution_count": 29,
   "metadata": {},
   "outputs": [
    {
     "data": {
      "text/plain": [
       "[]"
      ]
     },
     "execution_count": 29,
     "metadata": {},
     "output_type": "execute_result"
    },
    {
     "data": {
      "image/png": "[encoded data removed]",
      "text/plain": [
       "<Figure size 800x600 with 1 Axes>"
      ]
     },
     "metadata": {},
     "output_type": "display_data"
    }
   ],
   "source": [
    "feature_distribution(feature = \"bio_emojis\", label = \"status\", df = data)"
   ]
  },
  {
   "attachments": {},
   "cell_type": "markdown",
   "metadata": {},
   "source": [
    "Visualizing distribution of other continous variable features."
   ]
  },
  {
   "cell_type": "code",
   "execution_count": 30,
   "metadata": {},
   "outputs": [
    {
     "data": {
      "text/plain": [
       "[]"
      ]
     },
     "execution_count": 30,
     "metadata": {},
     "output_type": "execute_result"
    },
    {
     "data": {
      "image/png": "[encoded data removed]",
      "text/plain": [
       "<Figure size 800x600 with 1 Axes>"
      ]
     },
     "metadata": {},
     "output_type": "display_data"
    }
   ],
   "source": [
    "#post_count distribution\n",
    "feature_distribution(feature = \"followersCount\", label = \"status\", df = data)"
   ]
  },
  {
   "cell_type": "code",
   "execution_count": 31,
   "metadata": {},
   "outputs": [
    {
     "data": {
      "text/plain": [
       "[]"
      ]
     },
     "execution_count": 31,
     "metadata": {},
     "output_type": "execute_result"
    },
    {
     "data": {
      "image/png": "[encoded data removed]",
      "text/plain": [
       "<Figure size 800x600 with 1 Axes>"
      ]
     },
     "metadata": {},
     "output_type": "display_data"
    }
   ],
   "source": [
    "#post_count distribution\n",
    "feature_distribution(feature = \"followsCount\", label = \"status\", df = data)"
   ]
  },
  {
   "cell_type": "code",
   "execution_count": 32,
   "metadata": {},
   "outputs": [
    {
     "data": {
      "text/plain": [
       "[]"
      ]
     },
     "execution_count": 32,
     "metadata": {},
     "output_type": "execute_result"
    },
    {
     "data": {
      "image/png": "[encoded data removed]",
      "text/plain": [
       "<Figure size 800x600 with 1 Axes>"
      ]
     },
     "metadata": {},
     "output_type": "display_data"
    }
   ],
   "source": [
    "#post_count distribution\n",
    "feature_distribution(feature = \"highlightReelCount\", label = \"status\", df = data)"
   ]
  },
  {
   "cell_type": "code",
   "execution_count": 33,
   "metadata": {},
   "outputs": [
    {
     "data": {
      "text/plain": [
       "[]"
      ]
     },
     "execution_count": 33,
     "metadata": {},
     "output_type": "execute_result"
    },
    {
     "data": {
      "image/png": "[encoded data removed]",
      "text/plain": [
       "<Figure size 800x600 with 1 Axes>"
      ]
     },
     "metadata": {},
     "output_type": "display_data"
    }
   ],
   "source": [
    "#post_count distribution\n",
    "feature_distribution(feature = \"postsCount\", label = \"status\", df = data)"
   ]
  },
  {
   "cell_type": "code",
   "execution_count": 34,
   "metadata": {},
   "outputs": [
    {
     "data": {
      "text/plain": [
       "[]"
      ]
     },
     "execution_count": 34,
     "metadata": {},
     "output_type": "execute_result"
    },
    {
     "data": {
      "image/png": "[encoded data removed]",
      "text/plain": [
       "<Figure size 800x600 with 1 Axes>"
      ]
     },
     "metadata": {},
     "output_type": "display_data"
    }
   ],
   "source": [
    "#post_count distribution\n",
    "feature_distribution(feature = \"med_likes\", label = \"status\", df = data)"
   ]
  },
  {
   "attachments": {},
   "cell_type": "markdown",
   "metadata": {},
   "source": [
    "from the box plots, some features show a clear distinction of distributed for each label. ANOVA tests will be carried out to ascertain the stattistical significance of the distribution of the features with ambiguous distribution plots."
   ]
  },
  {
   "cell_type": "code",
   "execution_count": 35,
   "metadata": {},
   "outputs": [],
   "source": [
    "anova_features = [\"full_digits\", \"user_characters\", \"username_len\"]"
   ]
  },
  {
   "cell_type": "code",
   "execution_count": 36,
   "metadata": {},
   "outputs": [],
   "source": [
    "from scipy.stats import f_oneway"
   ]
  },
  {
   "cell_type": "code",
   "execution_count": 37,
   "metadata": {},
   "outputs": [],
   "source": [
    "anova_results = []\n",
    "for feature in anova_features:\n",
    "    # separate the data for the two groups\n",
    "    genuine = data.loc[data['status'] == 1, feature]\n",
    "    fake = data.loc[data['status'] == 0, feature]\n",
    "    \n",
    "    # perform ANOVA\n",
    "    f_statistic, p_value = f_oneway(genuine, fake)\n",
    "    \n",
    "    # append the results to the list\n",
    "    anova_results.append({'Feature': feature, 'F-Statistic': f_statistic, 'p-value': p_value})\n",
    "\n",
    "\n",
    "anova_df = pd.DataFrame(anova_results)\n"
   ]
  },
  {
   "cell_type": "code",
   "execution_count": 38,
   "metadata": {},
   "outputs": [
    {
     "data": {
      "text/html": [
       "<div>\n",
       "<style scoped>\n",
       "    .dataframe tbody tr th:only-of-type {\n",
       "        vertical-align: middle;\n",
       "    }\n",
       "\n",
       "    .dataframe tbody tr th {\n",
       "        vertical-align: top;\n",
       "    }\n",
       "\n",
       "    .dataframe thead th {\n",
       "        text-align: right;\n",
       "    }\n",
       "</style>\n",
       "<table border=\"1\" class=\"dataframe\">\n",
       "  <thead>\n",
       "    <tr style=\"text-align: right;\">\n",
       "      <th></th>\n",
       "      <th>Feature</th>\n",
       "      <th>F-Statistic</th>\n",
       "      <th>p-value</th>\n",
       "    </tr>\n",
       "  </thead>\n",
       "  <tbody>\n",
       "    <tr>\n",
       "      <th>0</th>\n",
       "      <td>full_digits</td>\n",
       "      <td>27.986311</td>\n",
       "      <td>1.678238e-07</td>\n",
       "    </tr>\n",
       "    <tr>\n",
       "      <th>1</th>\n",
       "      <td>user_characters</td>\n",
       "      <td>0.737049</td>\n",
       "      <td>3.909281e-01</td>\n",
       "    </tr>\n",
       "    <tr>\n",
       "      <th>2</th>\n",
       "      <td>username_len</td>\n",
       "      <td>2.461272</td>\n",
       "      <td>1.171770e-01</td>\n",
       "    </tr>\n",
       "  </tbody>\n",
       "</table>\n",
       "</div>"
      ],
      "text/plain": [
       "           Feature  F-Statistic       p-value\n",
       "0      full_digits    27.986311  1.678238e-07\n",
       "1  user_characters     0.737049  3.909281e-01\n",
       "2     username_len     2.461272  1.171770e-01"
      ]
     },
     "execution_count": 38,
     "metadata": {},
     "output_type": "execute_result"
    }
   ],
   "source": [
    "anova_df"
   ]
  },
  {
   "attachments": {},
   "cell_type": "markdown",
   "metadata": {},
   "source": [
    "The result shows a p-value > 0.05 for user_characters and user_len. Establishing that those two features do not have a bearing on the label of a user's account."
   ]
  },
  {
   "attachments": {},
   "cell_type": "markdown",
   "metadata": {},
   "source": [
    "Investigating statistical significance of discrete variables with CHI-SQAURE"
   ]
  },
  {
   "cell_type": "code",
   "execution_count": 39,
   "metadata": {},
   "outputs": [],
   "source": [
    "from scipy.stats import chi2_contingency\n",
    "\n",
    "def chi_square_tests(df, cat_features, target_feature):\n",
    "    results = pd.DataFrame(columns=['Feature', 'p-value'])\n",
    "    \n",
    "    for feature in cat_features:\n",
    "        contingency_table = pd.crosstab(df[feature], df[target_feature])\n",
    "        _, p, _, _ = chi2_contingency(contingency_table)\n",
    "        results = results.append({'Feature': feature, 'p-value': p}, ignore_index=True)\n",
    "    \n",
    "    return results"
   ]
  },
  {
   "cell_type": "code",
   "execution_count": 40,
   "metadata": {},
   "outputs": [
    {
     "name": "stdout",
     "output_type": "stream",
     "text": [
      "<class 'pandas.core.frame.DataFrame'>\n",
      "Index: 644 entries, 0 to 655\n",
      "Data columns (total 25 columns):\n",
      " #   Column                Non-Null Count  Dtype  \n",
      "---  ------                --------------  -----  \n",
      " 0   username              644 non-null    object \n",
      " 1   fullName              644 non-null    object \n",
      " 2   biography             644 non-null    object \n",
      " 3   externalUrl           644 non-null    bool   \n",
      " 4   followersCount        644 non-null    float64\n",
      " 5   followsCount          644 non-null    float64\n",
      " 6   hasChannel            644 non-null    object \n",
      " 7   highlightReelCount    644 non-null    float64\n",
      " 8   isBusinessAccount     644 non-null    object \n",
      " 9   joinedRecently        644 non-null    object \n",
      " 10  businessCategoryName  65 non-null     object \n",
      " 11  private               644 non-null    object \n",
      " 12  verified              644 non-null    object \n",
      " 13  profilePicUrl         644 non-null    bool   \n",
      " 14  postsCount            644 non-null    float64\n",
      " 15  med_likes             526 non-null    float64\n",
      " 16  status                644 non-null    int64  \n",
      " 17  username_len          644 non-null    int64  \n",
      " 18  user_characters       644 non-null    int64  \n",
      " 19  user_digits           644 non-null    int64  \n",
      " 20  full_len              644 non-null    int64  \n",
      " 21  full_characters       644 non-null    int64  \n",
      " 22  full_digits           644 non-null    int64  \n",
      " 23  bio_len               644 non-null    int64  \n",
      " 24  bio_emojis            644 non-null    int64  \n",
      "dtypes: bool(2), float64(5), int64(9), object(9)\n",
      "memory usage: 138.2+ KB\n"
     ]
    }
   ],
   "source": [
    "data.info()"
   ]
  },
  {
   "cell_type": "code",
   "execution_count": 41,
   "metadata": {},
   "outputs": [],
   "source": [
    "def convert_to_bool_and_int(val):\n",
    "    if val == 'True':\n",
    "        return 1\n",
    "    else:\n",
    "        return 0\n",
    "\n",
    "# List of columns to convert\n",
    "bool_cols = ['externalUrl', 'hasChannel', 'isBusinessAccount', 'joinedRecently', 'private', 'verified', 'profilePicUrl']\n",
    "\n",
    "# Loop through columns and apply the function\n",
    "for col in bool_cols:\n",
    "    data[col] = data[col].apply(lambda x: convert_to_bool_and_int(x)).astype(int)"
   ]
  },
  {
   "cell_type": "code",
   "execution_count": 42,
   "metadata": {},
   "outputs": [],
   "source": [
    "from scipy.stats import chi2_contingency\n",
    "\n",
    "def chi_square_tests(df, cat_features, target_feature):\n",
    "    results = []\n",
    "    for feature in cat_features:\n",
    "        contingency_table = pd.crosstab(df[feature], df[target_feature])\n",
    "        _, p, _, _ = chi2_contingency(contingency_table)\n",
    "        results.append({'Feature': feature, 'p-value': p})\n",
    "    return pd.DataFrame(results)"
   ]
  },
  {
   "cell_type": "code",
   "execution_count": 43,
   "metadata": {},
   "outputs": [
    {
     "data": {
      "text/html": [
       "<div>\n",
       "<style scoped>\n",
       "    .dataframe tbody tr th:only-of-type {\n",
       "        vertical-align: middle;\n",
       "    }\n",
       "\n",
       "    .dataframe tbody tr th {\n",
       "        vertical-align: top;\n",
       "    }\n",
       "\n",
       "    .dataframe thead th {\n",
       "        text-align: right;\n",
       "    }\n",
       "</style>\n",
       "<table border=\"1\" class=\"dataframe\">\n",
       "  <thead>\n",
       "    <tr style=\"text-align: right;\">\n",
       "      <th></th>\n",
       "      <th>Feature</th>\n",
       "      <th>p-value</th>\n",
       "    </tr>\n",
       "  </thead>\n",
       "  <tbody>\n",
       "    <tr>\n",
       "      <th>0</th>\n",
       "      <td>externalUrl</td>\n",
       "      <td>1.0</td>\n",
       "    </tr>\n",
       "    <tr>\n",
       "      <th>1</th>\n",
       "      <td>hasChannel</td>\n",
       "      <td>1.0</td>\n",
       "    </tr>\n",
       "    <tr>\n",
       "      <th>2</th>\n",
       "      <td>isBusinessAccount</td>\n",
       "      <td>1.0</td>\n",
       "    </tr>\n",
       "    <tr>\n",
       "      <th>3</th>\n",
       "      <td>joinedRecently</td>\n",
       "      <td>1.0</td>\n",
       "    </tr>\n",
       "    <tr>\n",
       "      <th>4</th>\n",
       "      <td>private</td>\n",
       "      <td>1.0</td>\n",
       "    </tr>\n",
       "    <tr>\n",
       "      <th>5</th>\n",
       "      <td>verified</td>\n",
       "      <td>1.0</td>\n",
       "    </tr>\n",
       "    <tr>\n",
       "      <th>6</th>\n",
       "      <td>profilePicUrl</td>\n",
       "      <td>1.0</td>\n",
       "    </tr>\n",
       "  </tbody>\n",
       "</table>\n",
       "</div>"
      ],
      "text/plain": [
       "             Feature  p-value\n",
       "0        externalUrl      1.0\n",
       "1         hasChannel      1.0\n",
       "2  isBusinessAccount      1.0\n",
       "3     joinedRecently      1.0\n",
       "4            private      1.0\n",
       "5           verified      1.0\n",
       "6      profilePicUrl      1.0"
      ]
     },
     "execution_count": 43,
     "metadata": {},
     "output_type": "execute_result"
    }
   ],
   "source": [
    "chi_square_tests(data, bool_cols, 'status')"
   ]
  },
  {
   "cell_type": "code",
   "execution_count": 44,
   "metadata": {},
   "outputs": [],
   "source": [
    "model_data = data.drop(['username', 'fullName', 'biography', 'externalUrl', 'hasChannel', 'isBusinessAccount', 'businessCategoryName','joinedRecently', 'private', 'verified', 'profilePicUrl', 'user_characters', 'username_len'], axis = 1)"
   ]
  },
  {
   "cell_type": "code",
   "execution_count": 45,
   "metadata": {},
   "outputs": [],
   "source": [
    "model_data.to_csv('../data-new/model_data.csv')"
   ]
  },
  {
   "cell_type": "code",
   "execution_count": null,
   "metadata": {},
   "outputs": [],
   "source": []
  }
 ],
 "metadata": {
  "kernelspec": {
   "display_name": "detect",
   "language": "python",
   "name": "python3"
  },
  "language_info": {
   "codemirror_mode": {
    "name": "ipython",
    "version": 3
   },
   "file_extension": ".py",
   "mimetype": "text/x-python",
   "name": "python",
   "nbconvert_exporter": "python",
   "pygments_lexer": "ipython3",
   "version": "3.9.13"
  },
  "orig_nbformat": 4,
  "vscode": {
   "interpreter": {
    "hash": "ce56cf213eaac267b66c0fd44ece22dbca1656ddf2cccd4c5ba5a5bccd8ff2c0"
   }
  }
 },
 "nbformat": 4,
 "nbformat_minor": 2
}
